{
 "cells": [
  {
   "cell_type": "markdown",
   "id": "eb1b481f",
   "metadata": {},
   "source": [
    "Limpieza para los datos 2."
   ]
  },
  {
   "cell_type": "code",
   "execution_count": 155,
   "id": "7ede650b",
   "metadata": {},
   "outputs": [],
   "source": [
    "import pandas as pd\n",
    "import numpy as np\n",
    "import seaborn as sns\n",
    "from datetime import datetime"
   ]
  },
  {
   "cell_type": "markdown",
   "id": "4482a71e",
   "metadata": {},
   "source": [
    "Funciones"
   ]
  },
  {
   "cell_type": "code",
   "execution_count": 156,
   "id": "f400d6dc",
   "metadata": {},
   "outputs": [],
   "source": [
    "def separar_df(df):\n",
    "    filtro = df['torneo'].str.contains('Men|ATP', regex=True, case = False)\n",
    "    masc = df[filtro]\n",
    "    return masc\n",
    "\n",
    "def asignar_año(fecha_str):\n",
    "    # Limpiar y convertir a día y mes (sin año)\n",
    "    dia_mes = fecha_str.strip('/')  # Elimina '/' final\n",
    "    dia, mes = map(int, dia_mes.split('/'))\n",
    "    \n",
    "    # Asignar 2024 si es antes de 11 de junio, 2025 en caso contrario\n",
    "    if (mes < 6) or (mes == 6 and dia <= 11):\n",
    "        return f\"{fecha_str}2025\"\n",
    "    else:\n",
    "        return f\"{fecha_str}2024\"\n",
    "\n",
    "def df_jugador(jugador, masc):\n",
    "\n",
    "    filtro_jugador = (masc['jugadorA'] == jugador) | (masc['jugadorB'] == jugador)\n",
    "    df_jugador = masc[filtro_jugador].copy()\n",
    "\n",
    "    df_jugador_A = df_jugador[df_jugador['jugadorA'] == jugador].copy()\n",
    "    df_jugador_B = df_jugador[df_jugador['jugadorB'] == jugador].copy()\n",
    "\n",
    "    columnas_A = [col for col in df_jugador.columns if col.endswith('A')]\n",
    "    columnas_B = [col for col in df_jugador.columns if col.endswith('B')]\n",
    "    mapeo_columnas = {**{col_a: col_b for col_a, col_b in zip(columnas_A, columnas_B)},\n",
    "                    **{col_b: col_a for col_a, col_b in zip(columnas_A, columnas_B)}}\n",
    "\n",
    "    df_jugador_B_invertido = df_jugador_B.rename(columns=mapeo_columnas)\n",
    "\n",
    "    df_final = pd.concat([df_jugador_A, df_jugador_B_invertido], ignore_index=True)\n",
    "\n",
    "    if 'fecha' in df_final.columns:\n",
    "        df_final = df_final.sort_values('fecha', ascending=False)\n",
    "\n",
    "    return df_final"
   ]
  },
  {
   "cell_type": "markdown",
   "id": "7b0b9433",
   "metadata": {},
   "source": [
    "Lectura"
   ]
  },
  {
   "cell_type": "code",
   "execution_count": 157,
   "id": "c3b361a2",
   "metadata": {},
   "outputs": [
    {
     "name": "stdout",
     "output_type": "stream",
     "text": [
      "2589\n"
     ]
    },
    {
     "data": {
      "text/html": [
       "<div>\n",
       "<style scoped>\n",
       "    .dataframe tbody tr th:only-of-type {\n",
       "        vertical-align: middle;\n",
       "    }\n",
       "\n",
       "    .dataframe tbody tr th {\n",
       "        vertical-align: top;\n",
       "    }\n",
       "\n",
       "    .dataframe thead th {\n",
       "        text-align: right;\n",
       "    }\n",
       "</style>\n",
       "<table border=\"1\" class=\"dataframe\">\n",
       "  <thead>\n",
       "    <tr style=\"text-align: right;\">\n",
       "      <th></th>\n",
       "      <th>torneo</th>\n",
       "      <th>jugadorA</th>\n",
       "      <th>jugadorB</th>\n",
       "      <th>setsA</th>\n",
       "      <th>setsB</th>\n",
       "      <th>fecha</th>\n",
       "      <th>retirado</th>\n",
       "      <th>acesA</th>\n",
       "      <th>acesB</th>\n",
       "      <th>dobleFaltasA</th>\n",
       "      <th>...</th>\n",
       "      <th>porcentajeJuegosGanadosAlSaqueB</th>\n",
       "      <th>JuegosGanadosAlSaqueB</th>\n",
       "      <th>porcentajeJuegosGanadosAlRestoA</th>\n",
       "      <th>JuegosGanadosAlRestoA</th>\n",
       "      <th>porcentajeJuegosGanadosAlRestoB</th>\n",
       "      <th>JuegosGanadosAlRestoB</th>\n",
       "      <th>JuegosGanadosA</th>\n",
       "      <th>JuegosGanadosB</th>\n",
       "      <th>PuntosGanadosRedA</th>\n",
       "      <th>PuntosGanadosRedB</th>\n",
       "    </tr>\n",
       "  </thead>\n",
       "  <tbody>\n",
       "    <tr>\n",
       "      <th>0</th>\n",
       "      <td>acapulco</td>\n",
       "      <td>Machac T.</td>\n",
       "      <td>Davidovich Fokina A.</td>\n",
       "      <td>2</td>\n",
       "      <td>0</td>\n",
       "      <td>02.03. 04:10</td>\n",
       "      <td>no</td>\n",
       "      <td>11.0</td>\n",
       "      <td>4.0</td>\n",
       "      <td>NaN</td>\n",
       "      <td>...</td>\n",
       "      <td>80%</td>\n",
       "      <td>(8/10)</td>\n",
       "      <td>20%</td>\n",
       "      <td>(2/10)</td>\n",
       "      <td>0%</td>\n",
       "      <td>(0/10)</td>\n",
       "      <td>(12/20)</td>\n",
       "      <td>(8/20)</td>\n",
       "      <td>NaN</td>\n",
       "      <td>NaN</td>\n",
       "    </tr>\n",
       "    <tr>\n",
       "      <th>1</th>\n",
       "      <td>acapulco</td>\n",
       "      <td>Shapovalov D.</td>\n",
       "      <td>Davidovich Fokina A.</td>\n",
       "      <td>0</td>\n",
       "      <td>2</td>\n",
       "      <td>01.03. 04:40</td>\n",
       "      <td>no</td>\n",
       "      <td>2.0</td>\n",
       "      <td>0.0</td>\n",
       "      <td>NaN</td>\n",
       "      <td>...</td>\n",
       "      <td>67%</td>\n",
       "      <td>(8/12)</td>\n",
       "      <td>33%</td>\n",
       "      <td>(4/12)</td>\n",
       "      <td>33%</td>\n",
       "      <td>(4/12)</td>\n",
       "      <td>(12/24)</td>\n",
       "      <td>(12/24)</td>\n",
       "      <td>NaN</td>\n",
       "      <td>NaN</td>\n",
       "    </tr>\n",
       "    <tr>\n",
       "      <th>2</th>\n",
       "      <td>acapulco</td>\n",
       "      <td>Machac T.</td>\n",
       "      <td>Nakashima B.</td>\n",
       "      <td>2</td>\n",
       "      <td>1</td>\n",
       "      <td>01.03. 02:05</td>\n",
       "      <td>no</td>\n",
       "      <td>4.0</td>\n",
       "      <td>7.0</td>\n",
       "      <td>NaN</td>\n",
       "      <td>...</td>\n",
       "      <td>79%</td>\n",
       "      <td>(11/14)</td>\n",
       "      <td>21%</td>\n",
       "      <td>(3/14)</td>\n",
       "      <td>23%</td>\n",
       "      <td>(3/13)</td>\n",
       "      <td>(13/27)</td>\n",
       "      <td>(14/27)</td>\n",
       "      <td>NaN</td>\n",
       "      <td>NaN</td>\n",
       "    </tr>\n",
       "    <tr>\n",
       "      <th>3</th>\n",
       "      <td>acapulco</td>\n",
       "      <td>Davidovich Fokina A.</td>\n",
       "      <td>Pacheco Mendez R.</td>\n",
       "      <td>2</td>\n",
       "      <td>0</td>\n",
       "      <td>28.02. 06:05</td>\n",
       "      <td>no</td>\n",
       "      <td>1.0</td>\n",
       "      <td>3.0</td>\n",
       "      <td>NaN</td>\n",
       "      <td>...</td>\n",
       "      <td>38%</td>\n",
       "      <td>(3/8)</td>\n",
       "      <td>63%</td>\n",
       "      <td>(5/8)</td>\n",
       "      <td>13%</td>\n",
       "      <td>(1/8)</td>\n",
       "      <td>(12/16)</td>\n",
       "      <td>(4/16)</td>\n",
       "      <td>NaN</td>\n",
       "      <td>NaN</td>\n",
       "    </tr>\n",
       "    <tr>\n",
       "      <th>4</th>\n",
       "      <td>acapulco</td>\n",
       "      <td>Shapovalov D.</td>\n",
       "      <td>Giron M.</td>\n",
       "      <td>2</td>\n",
       "      <td>1</td>\n",
       "      <td>28.02. 03:35</td>\n",
       "      <td>no</td>\n",
       "      <td>3.0</td>\n",
       "      <td>2.0</td>\n",
       "      <td>NaN</td>\n",
       "      <td>...</td>\n",
       "      <td>62%</td>\n",
       "      <td>(8/13)</td>\n",
       "      <td>38%</td>\n",
       "      <td>(5/13)</td>\n",
       "      <td>21%</td>\n",
       "      <td>(3/14)</td>\n",
       "      <td>(16/27)</td>\n",
       "      <td>(11/27)</td>\n",
       "      <td>NaN</td>\n",
       "      <td>NaN</td>\n",
       "    </tr>\n",
       "  </tbody>\n",
       "</table>\n",
       "<p>5 rows × 127 columns</p>\n",
       "</div>"
      ],
      "text/plain": [
       "     torneo              jugadorA              jugadorB setsA setsB  \\\n",
       "0  acapulco             Machac T.  Davidovich Fokina A.     2     0   \n",
       "1  acapulco         Shapovalov D.  Davidovich Fokina A.     0     2   \n",
       "2  acapulco             Machac T.          Nakashima B.     2     1   \n",
       "3  acapulco  Davidovich Fokina A.     Pacheco Mendez R.     2     0   \n",
       "4  acapulco         Shapovalov D.              Giron M.     2     1   \n",
       "\n",
       "          fecha retirado acesA acesB  dobleFaltasA  ...  \\\n",
       "0  02.03. 04:10       no  11.0   4.0           NaN  ...   \n",
       "1  01.03. 04:40       no   2.0   0.0           NaN  ...   \n",
       "2  01.03. 02:05       no   4.0   7.0           NaN  ...   \n",
       "3  28.02. 06:05       no   1.0   3.0           NaN  ...   \n",
       "4  28.02. 03:35       no   3.0   2.0           NaN  ...   \n",
       "\n",
       "   porcentajeJuegosGanadosAlSaqueB JuegosGanadosAlSaqueB  \\\n",
       "0                              80%                (8/10)   \n",
       "1                              67%                (8/12)   \n",
       "2                              79%               (11/14)   \n",
       "3                              38%                 (3/8)   \n",
       "4                              62%                (8/13)   \n",
       "\n",
       "  porcentajeJuegosGanadosAlRestoA  JuegosGanadosAlRestoA  \\\n",
       "0                             20%                 (2/10)   \n",
       "1                             33%                 (4/12)   \n",
       "2                             21%                 (3/14)   \n",
       "3                             63%                  (5/8)   \n",
       "4                             38%                 (5/13)   \n",
       "\n",
       "   porcentajeJuegosGanadosAlRestoB  JuegosGanadosAlRestoB  JuegosGanadosA  \\\n",
       "0                               0%                 (0/10)         (12/20)   \n",
       "1                              33%                 (4/12)         (12/24)   \n",
       "2                              23%                 (3/13)         (13/27)   \n",
       "3                              13%                  (1/8)         (12/16)   \n",
       "4                              21%                 (3/14)         (16/27)   \n",
       "\n",
       "   JuegosGanadosB  PuntosGanadosRedA  PuntosGanadosRedB  \n",
       "0          (8/20)                NaN                NaN  \n",
       "1         (12/24)                NaN                NaN  \n",
       "2         (14/27)                NaN                NaN  \n",
       "3          (4/16)                NaN                NaN  \n",
       "4         (11/27)                NaN                NaN  \n",
       "\n",
       "[5 rows x 127 columns]"
      ]
     },
     "execution_count": 157,
     "metadata": {},
     "output_type": "execute_result"
    }
   ],
   "source": [
    "masc1 = pd.read_csv(\".\\\\data\\\\data2\\\\acapulco_adelaide_masc_2025-06-12.csv\")\n",
    "masc2 = pd.read_csv(\".\\\\data\\\\data2\\\\adelaide2-asiangames_masc_2025-06-12.csv\")\n",
    "masc3 = pd.read_csv(\".\\\\data\\\\data2\\\\astana-bolzano_masc_2025-06-12.csv\")\n",
    "masc4 = pd.read_csv(\".\\\\data\\\\data2\\\\bordeaux-frenchopen_masc_2025-06-12.csv\")\n",
    "\n",
    "dfs_masc = [masc1, masc2, masc3, masc4]\n",
    "masc = pd.concat(dfs_masc, ignore_index=True)\n",
    "\n",
    "print(len(masc))\n",
    "masc.head()"
   ]
  },
  {
   "cell_type": "code",
   "execution_count": 158,
   "id": "20e90cdb",
   "metadata": {},
   "outputs": [
    {
     "data": {
      "text/plain": [
       "array(['2', '0', '1', 'Ruud C.', 'Paul T.', 'Korda S.', '3',\n",
       "       'Struff J-L.', 'Rosset M.', 'Isroilov S.', 'Safiullin R.',\n",
       "       'Grosjean S.', 'Woodruff C.', 'Nargiso D.', 'Martinez P.',\n",
       "       'Mronz A.', 'Thompson J.', 'Nishioka Y.', 'Auger-Aliassime F.',\n",
       "       'Fils A.', 'Gaston H.'], dtype=object)"
      ]
     },
     "execution_count": 158,
     "metadata": {},
     "output_type": "execute_result"
    }
   ],
   "source": [
    "masc['setsA'].unique()"
   ]
  },
  {
   "cell_type": "code",
   "execution_count": 159,
   "id": "96c3c595",
   "metadata": {},
   "outputs": [],
   "source": [
    "masc = masc[(masc['setsA'] != 'Fils A.') & (masc['setsA'] != 'Gaston H.') & (masc['setsA'] != 'Djokovic N.') & (masc['setsA'] != 'De Minaur A.')] #elimino 4 datos mal extraídos\n",
    "valores_erroneos = ['Fils A.', 'Gaston H.', 'Djokovic N.', 'De Minaur A.', 'Ruud C.', 'Paul T.', 'Korda S.', 'Struff J-L.', 'Rosset M.', 'Isroilov S.', 'Safiullin R.', 'Grosjean S.', 'Woodruff C.', 'Nargiso D.', 'Martinez P.', 'Mronz A.', 'Thompson J.', 'Nishioka Y.', 'Auger-Aliassime F.']\n",
    "masc = masc[~masc['setsA'].isin(valores_erroneos)]\n",
    "\n",
    "\n",
    "masc['setsA'] = masc['setsA'].astype(int)\n",
    "masc['setsB'] = masc['setsB'].astype(int)\n",
    "\n",
    "filtroGrandSlam = (masc['torneo'] == 'australian-open') | (masc['torneo'] == 'us-open') | (masc['torneo'] == 'wimbledon') | (masc['torneo'] == 'french-open')\n",
    "filtro3sets = (masc['setsA'] == 3) | (masc['setsB'] == 3)\n",
    "filtro2sets = (masc['setsA'] == 2) | (masc['setsB'] == 2)\n",
    "filtroGrandSlamGanaA = masc['setsA'] == 3\n",
    "filtroGrandSlamGanaB = masc['setsB'] == 3\n",
    "filtroNoGrandSlamGanaA = masc['setsA'] == 2\n",
    "filtroNoGrandSlamGanaB = masc['setsB'] == 2\n",
    "\n",
    "# Condición 1: es Grand Slam y no se llegó a 3 sets (partido incompleto/retirado)\n",
    "cond1 = filtroGrandSlam & (~filtro3sets)\n",
    "masc.loc[cond1, 'retirado'] = 'si'\n",
    "\n",
    "# Condición 2: no es Grand Slam y no se llegó a 2 sets (partido incompleto/retirado)\n",
    "cond2 = (~filtroGrandSlam) & (~filtro2sets)\n",
    "masc.loc[cond2, 'retirado'] = 'si'\n",
    "\n",
    "#Creo la variable superficie\n",
    "torneos_superficies = [\n",
    "    ('acapulco', 'Hard'),('adelaide', 'Hard'),('adelaide-2', 'Hard'),('almaty', 'Clay'),('amersfoort', 'Clay'),('amsterdam', 'Clay'),('antalya', 'Grass'),('antwerp', 'Hard'),('antwerp-2', 'Hard'),('asian-games', 'Hard'),\n",
    "    ('astana', 'Hard'),('athens', 'Clay'),('atlanta', 'Hard'),('atp-cup', 'Hard'),('auckland', 'Hard'),('australian-open', 'Hard'),('bangkok', 'Hard'),('banja-luka', 'Clay'),('barcelona', 'Clay'),('basel', 'Hard'),\n",
    "    ('bastad', 'Clay'),('beijing', 'Hard'),('belgrade', 'Clay'),('belgrade-2', 'Clay'),('berlin', 'Grass'),('bermuda', 'Hard'),('birmingham', 'Grass'),('bogota', 'Clay'),('bologna', 'Clay'),('bolzano', 'Hard'),\n",
    "    ('bordeaux', 'Clay'),('boston', 'Hard'),('brasilia', 'Clay'),('brighton', 'Hard'),('brisbane', 'Hard'),('bucharest', 'Clay'),('budapest', 'Clay'),('buenos-aires', 'Clay'),('buzios', 'Clay'),('cagliari', 'Clay'),\n",
    "    ('casablanca', 'Clay'),('chengdu', 'Hard'),('chennai', 'Hard'),('chicago', 'Hard'),('cincinnati', 'Hard'),('cologne', 'Hard'),('cologne-2', 'Hard'),('copenhagen', 'Hard'),('cordoba', 'Clay'),('costa-do-sauipe', 'Clay'),\n",
    "    ('dallas', 'Hard'),('delray-beach', 'Hard'),('doha', 'Hard'),('dubai', 'Hard'),('dusseldorf', 'Clay'),('eastbourne', 'Grass'),('essen', 'Hard'),('estoril', 'Clay'),('florence', 'Hard'),('french-open', 'Clay'),\n",
    "]\n",
    "\n",
    "superficie_dict = dict(torneos_superficies)\n",
    "masc['superficie'] = masc['torneo'].map(superficie_dict)\n",
    "\n",
    "\n",
    "masc[['dia', 'hora']] = masc['fecha'].str.split(' ', expand=True) #pongo la fecha como de normal (13/01/2025)\n",
    "masc['dia'] = masc['dia'].str.replace('.', '/', regex=False)\n",
    "masc['fecha'] = masc['dia'].apply(asignar_año)\n",
    "masc = masc.drop(columns = ['dia', 'cuotaA', 'cuotaB'])\n",
    "masc['fecha'] = pd.to_datetime(masc['fecha'], format='%d/%m/%Y')\n",
    "masc['sets'] = masc['setsA'] + masc['setsB']\n",
    "\n",
    "#Me quedo con las cuotas buenas\n",
    "masc = masc.rename(columns={\n",
    "    'cuotaA_2': 'cuotaA',\n",
    "    'cuotaB_2': 'cuotaB'\n",
    "})\n",
    "\n",
    "#Le quito el símbolo del porcentaje a las columnas que lo tienen\n",
    "cols_porcentaje = [col for col in masc.columns if 'porcentaje' in col.lower()]\n",
    "for col in cols_porcentaje:\n",
    "    masc[col] = masc[col].astype(str).str.replace('%', '', regex=False)\n",
    "    masc[col] = pd.to_numeric(masc[col], errors='coerce')\n",
    "\n",
    "#Le quito los paréntesis a las columnas que lo tienen\n",
    "cols_con_par = [col for col in masc.columns if masc[col].astype(str).str.contains(r'\\(\\d+/\\d+\\)').any()]\n",
    "for col in cols_con_par:\n",
    "    masc[col] = masc[col].astype(str).str.replace('(', '', regex=False).str.replace(')', '', regex=False)\n",
    "    \n",
    "#Creo la columna ganador\n",
    "\n",
    "masc['ganador'] = -1\n",
    "\n",
    "ganadorA1 = filtroGrandSlam & filtroGrandSlamGanaA\n",
    "masc.loc[ganadorA1, 'ganador'] = 0\n",
    "\n",
    "ganadorB1 = filtroGrandSlam & filtroGrandSlamGanaB\n",
    "masc.loc[ganadorB1, 'ganador'] = 1\n",
    "\n",
    "ganadorA2 = (~filtroGrandSlam) & filtroNoGrandSlamGanaA\n",
    "masc.loc[ganadorA2, 'ganador'] = 0\n",
    "\n",
    "ganadorB2 = (~filtroGrandSlam) & filtroNoGrandSlamGanaB\n",
    "masc.loc[ganadorB2, 'ganador'] = 1\n",
    "\n",
    "masc = masc[masc['acesA'] != '31.05.2025 00:16']\n",
    "masc = masc.sort_values('fecha', ascending=False).reset_index(drop=True)\n"
   ]
  },
  {
   "cell_type": "markdown",
   "id": "b4ffd9f4",
   "metadata": {},
   "source": [
    "Ahora vamos a tratar los nan"
   ]
  },
  {
   "cell_type": "code",
   "execution_count": 160,
   "id": "02299c49",
   "metadata": {},
   "outputs": [
    {
     "data": {
      "text/plain": [
       "37"
      ]
     },
     "execution_count": 160,
     "metadata": {},
     "output_type": "execute_result"
    }
   ],
   "source": [
    "filtro = masc.isna().sum() == 0\n",
    "len(masc.isna().sum()[filtro]) #hay 37 columnas con 0 nan"
   ]
  },
  {
   "cell_type": "code",
   "execution_count": 161,
   "id": "8335b626",
   "metadata": {},
   "outputs": [
    {
     "data": {
      "text/plain": [
       "cuotaA    625\n",
       "cuotaB    625\n",
       "dtype: int64"
      ]
     },
     "execution_count": 161,
     "metadata": {},
     "output_type": "execute_result"
    }
   ],
   "source": [
    "filtro = (masc.isna().sum() > 0) & (masc.isna().sum() <= 900)\n",
    "masc.isna().sum()[filtro] #las vairables cuotaA y cuotaB tienen 625 nan"
   ]
  },
  {
   "cell_type": "code",
   "execution_count": 162,
   "id": "4a674016",
   "metadata": {},
   "outputs": [
    {
     "name": "stdout",
     "output_type": "stream",
     "text": [
      "['acesA', 'acesB', 'porcentajePrimerSaqueA', 'porcentajePrimerSaqueB', 'porcentajeBreakPointsSalvadosA', 'porcentajeBreakPointsSalvadosB', 'porcentajePuntosGanadosAlRestoConPrimerSaqueA', 'porcentajePuntosGanadosAlRestoConPrimerSaqueB', 'porcentajePuntosGanadosAlRestoConSegundoSaqueA', 'porcentajePuntosGanadosAlRestoConSegundoSaqueB', 'porcentajePuntosGanadosA', 'porcentajePuntosGanadosB', 'porcentajeJuegosGanadosA', 'porcentajeJuegosGanadosB', 'dobleA', 'dobleB', 'porcentajeJuegosGanadosPrimerSaqueA', 'porcentajeJuegosGanadosPrimerSaqueB', 'porcentajeJuegosGanadosSegundoSaqueA', 'porcentajeJuegosGanadosSegundoSaqueB', 'porcentajePuntosGanadosAlRestoA', 'porcentajePuntosGanadosAlRestoB', 'porcentajePuntosBreakConvertidosA', 'porcentajePuntosBreakConvertidosB', 'porcentajePuntosGanadosAlSaqueA', 'porcentajePuntosGanadosAlSaqueB', 'porcentajeJuegosGanadosAlSaqueA', 'porcentajeJuegosGanadosAlSaqueB', 'porcentajeJuegosGanadosAlRestoA', 'porcentajeJuegosGanadosAlRestoB']\n"
     ]
    }
   ],
   "source": [
    "filtro = (masc.isna().sum() > 900) & (masc.isna().sum() <= 1000)\n",
    "len(masc.isna().sum()[filtro]) #hay 30 columnas con 915 nan, eso puede significar que 915 datos sean incompletos\n",
    "print(masc.isna().sum()[filtro].index.tolist())"
   ]
  },
  {
   "cell_type": "code",
   "execution_count": 163,
   "id": "aa5f1faa",
   "metadata": {},
   "outputs": [
    {
     "name": "stdout",
     "output_type": "stream",
     "text": [
      "['PuntosGanadosUltimas10BolasA', 'PuntosGanadosUltimas10BolasB', 'BolasDePartidoSalvadasA', 'BolasDePartidoSalvadasB']\n"
     ]
    }
   ],
   "source": [
    "filtro = (masc.isna().sum() > 1000) & (masc.isna().sum() <= 1700)\n",
    "masc.isna().sum()[filtro] #4 variables con 1344 nan, las eliminamos\n",
    "columnas_a_eliminar = masc.isna().sum()[filtro].index.tolist()\n",
    "print(columnas_a_eliminar)\n",
    "masc = masc.drop(columns = columnas_a_eliminar)"
   ]
  },
  {
   "cell_type": "code",
   "execution_count": 164,
   "id": "0aa8bb89",
   "metadata": {},
   "outputs": [
    {
     "name": "stdout",
     "output_type": "stream",
     "text": [
      "['winnersA', 'winnersB', 'erroresNoForzadosA', 'erroresNoForzadosB', 'porcentajePuntosGanadosRedA', 'porcentajePuntosGanadosRedB']\n"
     ]
    }
   ],
   "source": [
    "filtro = (masc.isna().sum() > 1700) & (masc.isna().sum() <= 2300)\n",
    "masc.isna().sum()[filtro] #6 variables con 1800 nan, las eliminamos\n",
    "columnas_a_eliminar = masc.isna().sum()[filtro].index.tolist()\n",
    "print(columnas_a_eliminar)\n",
    "masc = masc.drop(columns = columnas_a_eliminar)"
   ]
  },
  {
   "cell_type": "code",
   "execution_count": 165,
   "id": "91002ed4",
   "metadata": {},
   "outputs": [
    {
     "name": "stdout",
     "output_type": "stream",
     "text": [
      "['dobleFaltasA', 'dobleFaltasB', 'porcentajePuntosGanadosConPrimerSaqueA', 'porcentajePuntosGanadosConPrimerSaqueB', 'puntosGanadosConPrimerSaqueA', 'puntosGanadosConPrimerSaqueB', 'porcentajePuntosGanadosConSegundoSaqueA', 'porcentajePuntosGanadosConSegundoSaqueB', 'puntosGanadosConSegundoSaqueA', 'puntosGanadosConSegundoSaqueB', 'breakPointsSalvadosA', 'breakPointsSalvadosB', 'porcentajeBreakPointsA', 'porcentajeBreakPointsB', 'breakPointsA', 'breakPointsB', 'velocidadMediaPrimerSaqueA', 'velocidadMediaPrimerSaqueB', 'velocidadMediaSegundoSaqueA', 'velocidadMediaSegundoSaqueB', 'puntosGanadosAlRestoConPrimerSaqueA', 'puntosGanadosAlRestoConPrimerSaqueB', 'puntosGanadosAlRestoConSegundoSaqueA', 'puntosGanadosAlRestoConSegundoSaqueB', 'puntosGanadosRedA', 'puntosGanadosRedB', 'porcentajePuntosGanadosSaqueA', 'porcentajePuntosGanadosSaqueB', 'puntosGanadosSaqueA', 'puntosGanadosSaqueB', 'porcentajePuntosGanadosRestoA', 'porcentajePuntosGanadosRestoB', 'puntosGanadosRestoA', 'puntosGanadosRestoB', 'puntosGanadosA', 'puntosGanadosB', 'puntosGanadosUltimas10BolasA', 'puntosGanadosUltimas10BolasB', 'puntosDePartidoSalvadosA', 'puntosDePartidoSalvadosB', 'porcentajeJuegosGanadosSaqueA', 'porcentajeJuegosGanadosSaqueB', 'juegosGanadosSaqueA', 'juegosGanadosSaqueB', 'porcentajeJuegosGanadosRestoA', 'porcentajeJuegosGanadosRestoB', 'juegosGanadosRestoA', 'juegosGanadosRestoB', 'juegosGanadosA', 'juegosGanadosB']\n"
     ]
    }
   ],
   "source": [
    "filtro = (masc.isna().sum() > 2300)\n",
    "len(masc.isna().sum()[filtro]) # hay 50 variables que casi todo es nan por lo que optamos por eliminarlas\n",
    "columnas_a_eliminar = masc.isna().sum()[filtro].index.tolist()\n",
    "print(columnas_a_eliminar)\n",
    "masc = masc.drop(columns = columnas_a_eliminar)"
   ]
  },
  {
   "cell_type": "markdown",
   "id": "aefbb786",
   "metadata": {},
   "source": [
    "Vemos como se ha quedado el df"
   ]
  },
  {
   "cell_type": "code",
   "execution_count": 166,
   "id": "3f1f4ef4",
   "metadata": {},
   "outputs": [
    {
     "data": {
      "text/plain": [
       "(2567, 69)"
      ]
     },
     "execution_count": 166,
     "metadata": {},
     "output_type": "execute_result"
    }
   ],
   "source": [
    "masc.shape  #quedan 69 variables"
   ]
  }
 ],
 "metadata": {
  "kernelspec": {
   "display_name": "Python 3",
   "language": "python",
   "name": "python3"
  },
  "language_info": {
   "codemirror_mode": {
    "name": "ipython",
    "version": 3
   },
   "file_extension": ".py",
   "mimetype": "text/x-python",
   "name": "python",
   "nbconvert_exporter": "python",
   "pygments_lexer": "ipython3",
   "version": "3.13.1"
  }
 },
 "nbformat": 4,
 "nbformat_minor": 5
}

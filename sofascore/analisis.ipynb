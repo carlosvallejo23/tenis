{
 "cells": [
  {
   "cell_type": "code",
   "execution_count": 1,
   "id": "f0713f42",
   "metadata": {},
   "outputs": [],
   "source": [
    "import pandas as pd\n",
    "import re"
   ]
  },
  {
   "cell_type": "markdown",
   "id": "c72c479f",
   "metadata": {},
   "source": [
    "Funciones"
   ]
  },
  {
   "cell_type": "code",
   "execution_count": 2,
   "id": "5c2e2656",
   "metadata": {},
   "outputs": [],
   "source": [
    "def duraciones_a_lista(texto):\n",
    "    if pd.isna(texto):\n",
    "        return []\n",
    "    \n",
    "    # Extrae cada set con duración\n",
    "    sets = re.findall(r'(\\d{1,2}(?:st|nd|rd|th) set • (?:\\d+h\\s*)?\\d+m)', texto)\n",
    "\n",
    "    def set_num(set_str):\n",
    "        return int(re.match(r'(\\d+)', set_str).group(1))\n",
    "    \n",
    "    def duracion_en_minutos(set_str):\n",
    "        duracion = re.search(r'((\\d+)h)?\\s*(\\d+)m', set_str)\n",
    "        horas = int(duracion.group(2)) if duracion.group(2) else 0\n",
    "        minutos = int(duracion.group(3))\n",
    "        return horas * 60 + minutos\n",
    "\n",
    "    # Ordenar los sets (por número)\n",
    "    sets_ordenados = sorted(sets, key=set_num)\n",
    "    \n",
    "    # Convertir a lista de minutos\n",
    "    return [duracion_en_minutos(s) for s in sets_ordenados]\n",
    "\n",
    "def convertir_a_minutos(duracion):\n",
    "    if pd.isna(duracion):  # Si es NaN\n",
    "        return None\n",
    "    duracion = duracion.strip().lower()\n",
    "    horas = 0\n",
    "    minutos = 0\n",
    "    if 'h' in duracion:\n",
    "        partes = duracion.split('h')\n",
    "        horas = int(partes[0].strip())\n",
    "        if 'm' in partes[1]:\n",
    "            minutos = int(partes[1].replace('m', '').strip())\n",
    "    elif 'm' in duracion:\n",
    "        minutos = int(duracion.replace('m', '').strip())\n",
    "    return horas * 60 + minutos\n",
    "\n",
    "def limpiar_sets(x):\n",
    "    try:\n",
    "        # Intenta convertir a número\n",
    "        valor = float(x)\n",
    "        # Si es 0, 1, 2 o 3 exactos, lo convertimos a int\n",
    "        if valor in [0, 1, 2, 3]:\n",
    "            return int(valor)\n",
    "        else:\n",
    "            return x  # No convertir si es otro número\n",
    "    except:\n",
    "        return x  # Dejar el valor original si no se puede convertir"
   ]
  },
  {
   "cell_type": "markdown",
   "id": "949a670f",
   "metadata": {},
   "source": [
    "ANÁLISIS"
   ]
  },
  {
   "cell_type": "code",
   "execution_count": 3,
   "id": "892fda5d",
   "metadata": {},
   "outputs": [],
   "source": [
    "datos1 = pd.read_csv(\"data\\\\partidos_tenis_05_26-06_04.csv\")\n",
    "datos2 = pd.read_csv(\"data\\\\partidos_tenis_05_25.csv\")\n",
    "datos3 = pd.read_csv(\"data\\\\partidos_tenis_05_24.csv\")\n",
    "datos4 = pd.read_csv(\"data\\\\partidos_tenis_05_23.csv\")\n",
    "datos5 = pd.read_csv(\"data\\\\partidos_tenis_05_22-05_19.csv\")\n",
    "datos6 = pd.read_csv(\"data\\\\partidos_tenis_05_18-05_11.csv\")\n",
    "datos7 = pd.read_csv(\"data\\\\partidos_tenis_05_10-05_01.csv\")\n",
    "datos8 = pd.read_csv(\"data\\\\partidos_tenis_04_30-04_28.csv\")\n",
    "datos9 = pd.read_csv(\"data\\\\partidos_tenis_04_27-04_25.csv\")\n",
    "datos10 = pd.read_csv(\"data\\\\partidos_tenis_04_24-04_22.csv\")\n",
    "datos11 = pd.read_csv(\"data\\\\partidos_tenis_04_21-04_17.csv\")\n",
    "datos12 = pd.read_csv(\"data\\\\partidos_tenis_04_17-04_14.csv\")\n",
    "datos13 = pd.read_csv(\"data\\\\partidos_tenis_04_13-04_09.csv\")\n",
    "datos14 = pd.read_csv(\"data\\\\partidos_tenis_04_08-03_30.csv\")\n",
    "datos15 = pd.read_csv(\"data\\\\partidos_tenis_03_29-03_20.csv\")\n",
    "datos16 = pd.read_csv(\"data\\\\partidos_tenis_03_20-03_19.csv\")\n",
    "datos17 = pd.read_csv(\"data\\\\partidos_tenis_03_18-03_17.csv\")\n",
    "datos18 = pd.read_csv(\"data\\\\partidos_tenis_03_16-03_14.csv\")\n",
    "datos19 = pd.read_csv(\"data\\\\partidos_tenis_03_13-03_11.csv\")\n",
    "\n",
    "dfs = [datos1, datos2, datos3, datos4, datos5, datos6, datos7, datos8, datos9, datos10, datos11, datos12, datos13, datos14, datos15, datos16, datos17, datos18, datos19]\n",
    "raw = pd.concat(dfs, ignore_index=True)\n",
    "raw = raw.drop_duplicates()\n",
    "raw.drop(\"cancelado\", axis = 1, inplace = True)\n",
    "raw['setsA'] = raw['setsA'].apply(limpiar_sets)\n",
    "raw['setsB'] = raw['setsB'].apply(limpiar_sets)\n",
    "\n",
    "raw['cancelado'] = (~raw['setsA'].apply(lambda x: isinstance(x, int))) | (~raw['setsB'].apply(lambda x: isinstance(x, int)))\n",
    "\n",
    "datos = raw[~raw['cancelado']].copy()\n",
    "datos[\"cancelado\"] = datos[\"cancelado\"].astype(int)\n",
    "datos[\"genero\"] = datos[\"genero\"].map({\"masculino\": 1, \"femenino\": 0}).astype(\"Int64\")\n"
   ]
  },
  {
   "cell_type": "markdown",
   "id": "7da136c2",
   "metadata": {},
   "source": [
    "Separo los datos entre individual y dobles"
   ]
  },
  {
   "cell_type": "code",
   "execution_count": 156,
   "id": "d1fd8174",
   "metadata": {},
   "outputs": [
    {
     "name": "stdout",
     "output_type": "stream",
     "text": [
      "Dobles 192\n",
      "Individuales 1465\n",
      "Todo 1657\n"
     ]
    }
   ],
   "source": [
    "filtroDobles = (datos['especificacion_torneo'] == 'Doubles') | (datos['especificacion_torneo'] == 'Mixed Doubles')\n",
    "filtroIndividual = (datos['especificacion_torneo'] == 'Singles') | (datos['especificacion_torneo'] == 'Qualifying')\n",
    "\n",
    "dob = datos[filtroDobles].copy()\n",
    "ind = datos[filtroIndividual].copy()\n",
    "\n",
    "print(\"Dobles\",len(dob))\n",
    "print(\"Individuales\",len(ind))\n",
    "print(\"Todo\",len(datos))"
   ]
  },
  {
   "cell_type": "markdown",
   "id": "aa584491",
   "metadata": {},
   "source": [
    "Me especializo en individual"
   ]
  },
  {
   "cell_type": "code",
   "execution_count": 157,
   "id": "d298d282",
   "metadata": {},
   "outputs": [],
   "source": [
    "ind.drop([\"jugadorA2\", \"jugadorB2\", \"nombre_torneo\", \"duracion\"], axis = 1, inplace = True)"
   ]
  },
  {
   "cell_type": "code",
   "execution_count": 158,
   "id": "d531a156",
   "metadata": {},
   "outputs": [],
   "source": [
    "ind[[\"retirado\", \"duracion\"]] = ind[\"duracion_sets\"].str.split(\" - \", expand=True)"
   ]
  },
  {
   "cell_type": "code",
   "execution_count": null,
   "id": "419440d5",
   "metadata": {},
   "outputs": [
    {
     "data": {
      "text/plain": [
       "255     None\n",
       "276     None\n",
       "761     None\n",
       "865     None\n",
       "874     None\n",
       "896     None\n",
       "951     None\n",
       "964     None\n",
       "997     None\n",
       "1052    None\n",
       "1086    None\n",
       "1566    None\n",
       "Name: duracion, dtype: object"
      ]
     },
     "execution_count": 154,
     "metadata": {},
     "output_type": "execute_result"
    }
   ],
   "source": [
    "ind['retirado'] = ind['retirado'].replace('Final', 'FT')"
   ]
  }
 ],
 "metadata": {
  "kernelspec": {
   "display_name": "Python 3",
   "language": "python",
   "name": "python3"
  },
  "language_info": {
   "codemirror_mode": {
    "name": "ipython",
    "version": 3
   },
   "file_extension": ".py",
   "mimetype": "text/x-python",
   "name": "python",
   "nbconvert_exporter": "python",
   "pygments_lexer": "ipython3",
   "version": "3.13.1"
  }
 },
 "nbformat": 4,
 "nbformat_minor": 5
}
